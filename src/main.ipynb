{
 "cells": [
  {
   "cell_type": "markdown",
   "id": "a62bcf2a",
   "metadata": {},
   "source": [
    "## Import ipynb & library"
   ]
  },
  {
   "cell_type": "code",
   "execution_count": 1,
   "id": "1890df7b",
   "metadata": {},
   "outputs": [],
   "source": [
    "%load_ext autoreload\n",
    "%autoreload 2\n",
    "import import_ipynb"
   ]
  },
  {
   "cell_type": "code",
   "execution_count": 2,
   "id": "3130d7fd",
   "metadata": {},
   "outputs": [
    {
     "name": "stdout",
     "output_type": "stream",
     "text": [
      "importing Jupyter notebook from util.ipynb\n",
      "importing Jupyter notebook from model.ipynb\n",
      "The autoreload extension is already loaded. To reload it, use:\n",
      "  %reload_ext autoreload\n"
     ]
    }
   ],
   "source": [
    "from util import *\n",
    "from model import *"
   ]
  },
  {
   "cell_type": "markdown",
   "id": "d529ce42",
   "metadata": {},
   "source": [
    "## Load data and Set parameters"
   ]
  },
  {
   "cell_type": "code",
   "execution_count": 3,
   "id": "2bc785a0",
   "metadata": {},
   "outputs": [],
   "source": [
    "BATCH_SIZE = 32\n",
    "\n",
    "NUM_OF_LOCAL = 10\n",
    "PDIST = 0.9\n",
    "\n",
    "ITERATION = 30\n",
    "EPOCHS = 20"
   ]
  },
  {
   "cell_type": "code",
   "execution_count": 4,
   "id": "4f51dd2d",
   "metadata": {
    "scrolled": true
   },
   "outputs": [
    {
     "name": "stdout",
     "output_type": "stream",
     "text": [
      "torch.Size([60000, 1, 28, 28]) torch.Size([60000]) torch.Size([10000, 1, 28, 28]) torch.Size([10000])\n"
     ]
    }
   ],
   "source": [
    "tr_X, tr_y, te_X, te_y = load_mnist_data()"
   ]
  },
  {
   "cell_type": "markdown",
   "id": "bff1aaa7",
   "metadata": {},
   "source": [
    "### IID Dataset"
   ]
  },
  {
   "cell_type": "code",
   "execution_count": 5,
   "id": "d026e663",
   "metadata": {},
   "outputs": [],
   "source": [
    "tr_X_iid_dict, tr_y_iid_dict, te_X_iid_dict, te_y_iid_dict = create_iid_samples(\n",
    "    tr_X, tr_y, te_X, te_y,\n",
    "    NUM_OF_LOCAL,\n",
    "    verbose=False\n",
    ")"
   ]
  },
  {
   "cell_type": "markdown",
   "id": "a2f9ff91",
   "metadata": {},
   "source": [
    "### Non-IID Dataset"
   ]
  },
  {
   "cell_type": "code",
   "execution_count": 6,
   "id": "e9682489",
   "metadata": {
    "scrolled": true
   },
   "outputs": [],
   "source": [
    "tr_X_dict, tr_y_dict, te_X_dict, te_y_dict = create_non_iid_samples(\n",
    "    tr_X, tr_y, te_X, te_y,\n",
    "    NUM_OF_LOCAL,\n",
    "    pdist=PDIST,\n",
    "    verbose=False\n",
    ")"
   ]
  },
  {
   "cell_type": "markdown",
   "id": "d6be31d2",
   "metadata": {},
   "source": [
    "## Centralized Model"
   ]
  },
  {
   "cell_type": "code",
   "execution_count": 7,
   "id": "de99d279",
   "metadata": {},
   "outputs": [
    {
     "name": "stdout",
     "output_type": "stream",
     "text": [
      "------ Centralized Model ------\n",
      "[epoch 1/10] train loss: 1.9573, train accuracy:  0.5119 | test loss: 1.6385, test accuracy:  0.8259\n",
      "[epoch 2/10] train loss: 1.5540, train accuracy:  0.9093 | test loss: 1.5034, test accuracy:  0.9589\n",
      "[epoch 3/10] train loss: 1.5036, train accuracy:  0.9585 | test loss: 1.5004, test accuracy:  0.9603\n",
      "[epoch 4/10] train loss: 1.4964, train accuracy:  0.9655 | test loss: 1.4902, test accuracy:  0.9720\n",
      "[epoch 5/10] train loss: 1.4904, train accuracy:  0.9713 | test loss: 1.4866, test accuracy:  0.9748\n",
      "[epoch 6/10] train loss: 1.4873, train accuracy:  0.9742 | test loss: 1.4902, test accuracy:  0.9715\n",
      "[epoch 7/10] train loss: 1.4850, train accuracy:  0.9762 | test loss: 1.4847, test accuracy:  0.9764\n",
      "[epoch 8/10] train loss: 1.4825, train accuracy:  0.9789 | test loss: 1.4791, test accuracy:  0.9822\n",
      "[epoch 9/10] train loss: 1.4805, train accuracy:  0.9809 | test loss: 1.4826, test accuracy:  0.9783\n",
      "[epoch 10/10] train loss: 1.4792, train accuracy:  0.9821 | test loss: 1.4865, test accuracy:  0.9743\n",
      "------ Training finished ------\n"
     ]
    }
   ],
   "source": [
    "centralized_model = centralized_learning(\n",
    "    tr_X, tr_y, te_X, te_y,                                     \n",
    "    epochs=10, batch_size=BATCH_SIZE)"
   ]
  },
  {
   "cell_type": "code",
   "execution_count": 8,
   "id": "a1bfad62",
   "metadata": {},
   "outputs": [
    {
     "name": "stdout",
     "output_type": "stream",
     "text": [
      "              precision    recall  f1-score   support\n",
      "\n",
      "           0     0.9721    0.9959    0.9839       980\n",
      "           1     0.9912    0.9877    0.9894      1135\n",
      "           2     0.9205    0.9981    0.9577      1032\n",
      "           3     0.9576    0.9832    0.9702      1010\n",
      "           4     0.9748    0.9868    0.9808       982\n",
      "           5     0.9930    0.9563    0.9743       892\n",
      "           6     0.9968    0.9791    0.9879       958\n",
      "           7     0.9827    0.9397    0.9607      1028\n",
      "           8     0.9647    0.9815    0.9730       974\n",
      "           9     1.0000    0.9326    0.9651      1009\n",
      "\n",
      "    accuracy                         0.9743     10000\n",
      "   macro avg     0.9753    0.9741    0.9743     10000\n",
      "weighted avg     0.9752    0.9743    0.9743     10000\n",
      "\n"
     ]
    }
   ],
   "source": [
    "centralized_report = create_eval_report(centralized_model, te_X, te_y)"
   ]
  },
  {
   "cell_type": "code",
   "execution_count": 9,
   "id": "4f550b4b",
   "metadata": {},
   "outputs": [],
   "source": [
    "save_model(centralized_model, './data/model/centralized_model')"
   ]
  },
  {
   "cell_type": "markdown",
   "id": "6da8a374",
   "metadata": {},
   "source": [
    "## Federated Learning (IID)"
   ]
  },
  {
   "cell_type": "code",
   "execution_count": 10,
   "id": "077ce3a8",
   "metadata": {},
   "outputs": [
    {
     "name": "stdout",
     "output_type": "stream",
     "text": [
      "[*] Iteration: 1/10\n"
     ]
    },
    {
     "name": "stderr",
     "output_type": "stream",
     "text": [
      "Train local models: 100%|██████████████████████████████████████████████████████████████| 10/10 [01:44<00:00, 10.49s/it]\n"
     ]
    },
    {
     "name": "stdout",
     "output_type": "stream",
     "text": [
      "[iter 1/10] main_loss: 1.5675, main_acc: 0.8967\n",
      "[*] Iteration: 2/10\n"
     ]
    },
    {
     "name": "stderr",
     "output_type": "stream",
     "text": [
      "Train local models: 100%|██████████████████████████████████████████████████████████████| 10/10 [01:42<00:00, 10.24s/it]\n"
     ]
    },
    {
     "name": "stdout",
     "output_type": "stream",
     "text": [
      "[iter 2/10] main_loss: 1.4939, main_acc: 0.9681\n",
      "[*] Iteration: 3/10\n"
     ]
    },
    {
     "name": "stderr",
     "output_type": "stream",
     "text": [
      "Train local models: 100%|██████████████████████████████████████████████████████████████| 10/10 [01:43<00:00, 10.34s/it]\n"
     ]
    },
    {
     "name": "stdout",
     "output_type": "stream",
     "text": [
      "[iter 3/10] main_loss: 1.4855, main_acc: 0.9763\n",
      "[*] Iteration: 4/10\n"
     ]
    },
    {
     "name": "stderr",
     "output_type": "stream",
     "text": [
      "Train local models: 100%|██████████████████████████████████████████████████████████████| 10/10 [01:45<00:00, 10.55s/it]\n"
     ]
    },
    {
     "name": "stdout",
     "output_type": "stream",
     "text": [
      "[iter 4/10] main_loss: 1.4816, main_acc: 0.9798\n",
      "[*] Iteration: 5/10\n"
     ]
    },
    {
     "name": "stderr",
     "output_type": "stream",
     "text": [
      "Train local models: 100%|██████████████████████████████████████████████████████████████| 10/10 [01:53<00:00, 11.39s/it]\n"
     ]
    },
    {
     "name": "stdout",
     "output_type": "stream",
     "text": [
      "[iter 5/10] main_loss: 1.4788, main_acc: 0.9831\n",
      "[*] Iteration: 6/10\n"
     ]
    },
    {
     "name": "stderr",
     "output_type": "stream",
     "text": [
      "Train local models: 100%|██████████████████████████████████████████████████████████████| 10/10 [01:45<00:00, 10.57s/it]\n"
     ]
    },
    {
     "name": "stdout",
     "output_type": "stream",
     "text": [
      "[iter 6/10] main_loss: 1.4767, main_acc: 0.9853\n",
      "[*] Iteration: 7/10\n"
     ]
    },
    {
     "name": "stderr",
     "output_type": "stream",
     "text": [
      "Train local models: 100%|██████████████████████████████████████████████████████████████| 10/10 [01:44<00:00, 10.47s/it]\n"
     ]
    },
    {
     "name": "stdout",
     "output_type": "stream",
     "text": [
      "[iter 7/10] main_loss: 1.4759, main_acc: 0.9859\n",
      "[*] Iteration: 8/10\n"
     ]
    },
    {
     "name": "stderr",
     "output_type": "stream",
     "text": [
      "Train local models: 100%|██████████████████████████████████████████████████████████████| 10/10 [01:44<00:00, 10.48s/it]\n"
     ]
    },
    {
     "name": "stdout",
     "output_type": "stream",
     "text": [
      "[iter 8/10] main_loss: 1.4746, main_acc: 0.9874\n",
      "[*] Iteration: 9/10\n"
     ]
    },
    {
     "name": "stderr",
     "output_type": "stream",
     "text": [
      "Train local models: 100%|██████████████████████████████████████████████████████████████| 10/10 [01:43<00:00, 10.35s/it]\n"
     ]
    },
    {
     "name": "stdout",
     "output_type": "stream",
     "text": [
      "[iter 9/10] main_loss: 1.4745, main_acc: 0.9869\n",
      "[*] Iteration: 10/10\n"
     ]
    },
    {
     "name": "stderr",
     "output_type": "stream",
     "text": [
      "Train local models: 100%|██████████████████████████████████████████████████████████████| 10/10 [01:49<00:00, 10.92s/it]\n"
     ]
    },
    {
     "name": "stdout",
     "output_type": "stream",
     "text": [
      "[iter 10/10] main_loss: 1.4741, main_acc: 0.9874\n"
     ]
    }
   ],
   "source": [
    "main_iid_model, local_iid_models = federated_learning(\n",
    "    tr_X_iid_dict, tr_y_iid_dict, te_X_iid_dict, te_y_iid_dict, te_X, te_y,\n",
    "    NUM_OF_LOCAL, iteration=10, epochs=10,\n",
    "    batch_size=BATCH_SIZE, log_name='iid', verbose=False)"
   ]
  },
  {
   "cell_type": "code",
   "execution_count": 11,
   "id": "ee07793c",
   "metadata": {},
   "outputs": [
    {
     "name": "stdout",
     "output_type": "stream",
     "text": [
      "              precision    recall  f1-score   support\n",
      "\n",
      "           0     0.9819    0.9939    0.9878       980\n",
      "           1     0.9904    0.9965    0.9934      1135\n",
      "           2     0.9855    0.9903    0.9879      1032\n",
      "           3     0.9852    0.9871    0.9862      1010\n",
      "           4     0.9908    0.9878    0.9893       982\n",
      "           5     0.9898    0.9832    0.9865       892\n",
      "           6     0.9885    0.9885    0.9885       958\n",
      "           7     0.9854    0.9844    0.9849      1028\n",
      "           8     0.9897    0.9836    0.9866       974\n",
      "           9     0.9870    0.9772    0.9821      1009\n",
      "\n",
      "    accuracy                         0.9874     10000\n",
      "   macro avg     0.9874    0.9872    0.9873     10000\n",
      "weighted avg     0.9874    0.9874    0.9874     10000\n",
      "\n"
     ]
    }
   ],
   "source": [
    "iid_report = create_eval_report(main_iid_model, te_X, te_y)"
   ]
  },
  {
   "cell_type": "code",
   "execution_count": 12,
   "id": "85825b9f",
   "metadata": {},
   "outputs": [
    {
     "data": {
      "text/html": [
       "<div>\n",
       "<style scoped>\n",
       "    .dataframe tbody tr th:only-of-type {\n",
       "        vertical-align: middle;\n",
       "    }\n",
       "\n",
       "    .dataframe tbody tr th {\n",
       "        vertical-align: top;\n",
       "    }\n",
       "\n",
       "    .dataframe thead th {\n",
       "        text-align: right;\n",
       "    }\n",
       "</style>\n",
       "<table border=\"1\" class=\"dataframe\">\n",
       "  <thead>\n",
       "    <tr style=\"text-align: right;\">\n",
       "      <th></th>\n",
       "      <th>local</th>\n",
       "      <th>local_ind_model</th>\n",
       "      <th>merged_main_model</th>\n",
       "    </tr>\n",
       "  </thead>\n",
       "  <tbody>\n",
       "    <tr>\n",
       "      <th>0</th>\n",
       "      <td>local 0</td>\n",
       "      <td>0.987952</td>\n",
       "      <td>0.985944</td>\n",
       "    </tr>\n",
       "    <tr>\n",
       "      <th>1</th>\n",
       "      <td>local 1</td>\n",
       "      <td>0.985944</td>\n",
       "      <td>0.992972</td>\n",
       "    </tr>\n",
       "    <tr>\n",
       "      <th>2</th>\n",
       "      <td>local 2</td>\n",
       "      <td>0.979920</td>\n",
       "      <td>0.987952</td>\n",
       "    </tr>\n",
       "    <tr>\n",
       "      <th>3</th>\n",
       "      <td>local 3</td>\n",
       "      <td>0.985944</td>\n",
       "      <td>0.983936</td>\n",
       "    </tr>\n",
       "    <tr>\n",
       "      <th>4</th>\n",
       "      <td>local 4</td>\n",
       "      <td>0.980924</td>\n",
       "      <td>0.980924</td>\n",
       "    </tr>\n",
       "    <tr>\n",
       "      <th>5</th>\n",
       "      <td>local 5</td>\n",
       "      <td>0.982932</td>\n",
       "      <td>0.988956</td>\n",
       "    </tr>\n",
       "    <tr>\n",
       "      <th>6</th>\n",
       "      <td>local 6</td>\n",
       "      <td>0.978916</td>\n",
       "      <td>0.985944</td>\n",
       "    </tr>\n",
       "    <tr>\n",
       "      <th>7</th>\n",
       "      <td>local 7</td>\n",
       "      <td>0.981928</td>\n",
       "      <td>0.987952</td>\n",
       "    </tr>\n",
       "    <tr>\n",
       "      <th>8</th>\n",
       "      <td>local 8</td>\n",
       "      <td>0.989960</td>\n",
       "      <td>0.991968</td>\n",
       "    </tr>\n",
       "    <tr>\n",
       "      <th>9</th>\n",
       "      <td>local 9</td>\n",
       "      <td>0.984556</td>\n",
       "      <td>0.987452</td>\n",
       "    </tr>\n",
       "  </tbody>\n",
       "</table>\n",
       "</div>"
      ],
      "text/plain": [
       "     local  local_ind_model  merged_main_model\n",
       "0  local 0         0.987952           0.985944\n",
       "1  local 1         0.985944           0.992972\n",
       "2  local 2         0.979920           0.987952\n",
       "3  local 3         0.985944           0.983936\n",
       "4  local 4         0.980924           0.980924\n",
       "5  local 5         0.982932           0.988956\n",
       "6  local 6         0.978916           0.985944\n",
       "7  local 7         0.981928           0.987952\n",
       "8  local 8         0.989960           0.991968\n",
       "9  local 9         0.984556           0.987452"
      ]
     },
     "execution_count": 12,
     "metadata": {},
     "output_type": "execute_result"
    }
   ],
   "source": [
    "compare_local_and_merged_model(main_iid_model, local_iid_models, te_X_iid_dict, te_y_iid_dict)"
   ]
  },
  {
   "cell_type": "code",
   "execution_count": 13,
   "id": "77a988f0",
   "metadata": {},
   "outputs": [],
   "source": [
    "save_model(main_iid_model, './data/model/main_iid_model')"
   ]
  },
  {
   "cell_type": "markdown",
   "id": "51e380cd",
   "metadata": {},
   "source": [
    "## Federated Learning (Non-IID)"
   ]
  },
  {
   "cell_type": "code",
   "execution_count": null,
   "id": "072d2e3b",
   "metadata": {
    "scrolled": true
   },
   "outputs": [
    {
     "name": "stdout",
     "output_type": "stream",
     "text": [
      "[*] Iteration: 1/30\n"
     ]
    },
    {
     "name": "stderr",
     "output_type": "stream",
     "text": [
      "Train local models: 100%|██████████████████████████████████████████████████████████████| 10/10 [03:35<00:00, 21.57s/it]\n",
      "/Users/sanghoonjeon/miniforge3/envs/federate/lib/python3.9/site-packages/sklearn/metrics/_classification.py:1248: UndefinedMetricWarning: Precision and F-score are ill-defined and being set to 0.0 in labels with no predicted samples. Use `zero_division` parameter to control this behavior.\n",
      "  _warn_prf(average, modifier, msg_start, len(result))\n",
      "/Users/sanghoonjeon/miniforge3/envs/federate/lib/python3.9/site-packages/sklearn/metrics/_classification.py:1248: UndefinedMetricWarning: Precision and F-score are ill-defined and being set to 0.0 in labels with no predicted samples. Use `zero_division` parameter to control this behavior.\n",
      "  _warn_prf(average, modifier, msg_start, len(result))\n",
      "/Users/sanghoonjeon/miniforge3/envs/federate/lib/python3.9/site-packages/sklearn/metrics/_classification.py:1248: UndefinedMetricWarning: Precision and F-score are ill-defined and being set to 0.0 in labels with no predicted samples. Use `zero_division` parameter to control this behavior.\n",
      "  _warn_prf(average, modifier, msg_start, len(result))\n"
     ]
    },
    {
     "name": "stdout",
     "output_type": "stream",
     "text": [
      "[iter 1/30] main_loss: 2.3006, main_acc: 0.1037\n",
      "[*] Iteration: 2/30\n"
     ]
    },
    {
     "name": "stderr",
     "output_type": "stream",
     "text": [
      "Train local models: 100%|██████████████████████████████████████████████████████████████| 10/10 [03:34<00:00, 21.41s/it]\n",
      "/Users/sanghoonjeon/miniforge3/envs/federate/lib/python3.9/site-packages/sklearn/metrics/_classification.py:1248: UndefinedMetricWarning: Precision and F-score are ill-defined and being set to 0.0 in labels with no predicted samples. Use `zero_division` parameter to control this behavior.\n",
      "  _warn_prf(average, modifier, msg_start, len(result))\n",
      "/Users/sanghoonjeon/miniforge3/envs/federate/lib/python3.9/site-packages/sklearn/metrics/_classification.py:1248: UndefinedMetricWarning: Precision and F-score are ill-defined and being set to 0.0 in labels with no predicted samples. Use `zero_division` parameter to control this behavior.\n",
      "  _warn_prf(average, modifier, msg_start, len(result))\n",
      "/Users/sanghoonjeon/miniforge3/envs/federate/lib/python3.9/site-packages/sklearn/metrics/_classification.py:1248: UndefinedMetricWarning: Precision and F-score are ill-defined and being set to 0.0 in labels with no predicted samples. Use `zero_division` parameter to control this behavior.\n",
      "  _warn_prf(average, modifier, msg_start, len(result))\n"
     ]
    },
    {
     "name": "stdout",
     "output_type": "stream",
     "text": [
      "[iter 2/30] main_loss: 2.2886, main_acc: 0.1141\n",
      "[*] Iteration: 3/30\n"
     ]
    },
    {
     "name": "stderr",
     "output_type": "stream",
     "text": [
      "Train local models: 100%|██████████████████████████████████████████████████████████████| 10/10 [03:33<00:00, 21.39s/it]\n",
      "/Users/sanghoonjeon/miniforge3/envs/federate/lib/python3.9/site-packages/sklearn/metrics/_classification.py:1248: UndefinedMetricWarning: Precision and F-score are ill-defined and being set to 0.0 in labels with no predicted samples. Use `zero_division` parameter to control this behavior.\n",
      "  _warn_prf(average, modifier, msg_start, len(result))\n",
      "/Users/sanghoonjeon/miniforge3/envs/federate/lib/python3.9/site-packages/sklearn/metrics/_classification.py:1248: UndefinedMetricWarning: Precision and F-score are ill-defined and being set to 0.0 in labels with no predicted samples. Use `zero_division` parameter to control this behavior.\n",
      "  _warn_prf(average, modifier, msg_start, len(result))\n",
      "/Users/sanghoonjeon/miniforge3/envs/federate/lib/python3.9/site-packages/sklearn/metrics/_classification.py:1248: UndefinedMetricWarning: Precision and F-score are ill-defined and being set to 0.0 in labels with no predicted samples. Use `zero_division` parameter to control this behavior.\n",
      "  _warn_prf(average, modifier, msg_start, len(result))\n"
     ]
    },
    {
     "name": "stdout",
     "output_type": "stream",
     "text": [
      "[iter 3/30] main_loss: 2.2539, main_acc: 0.2608\n",
      "[*] Iteration: 4/30\n"
     ]
    },
    {
     "name": "stderr",
     "output_type": "stream",
     "text": [
      "Train local models: 100%|██████████████████████████████████████████████████████████████| 10/10 [03:34<00:00, 21.47s/it]\n",
      "/Users/sanghoonjeon/miniforge3/envs/federate/lib/python3.9/site-packages/sklearn/metrics/_classification.py:1248: UndefinedMetricWarning: Precision and F-score are ill-defined and being set to 0.0 in labels with no predicted samples. Use `zero_division` parameter to control this behavior.\n",
      "  _warn_prf(average, modifier, msg_start, len(result))\n",
      "/Users/sanghoonjeon/miniforge3/envs/federate/lib/python3.9/site-packages/sklearn/metrics/_classification.py:1248: UndefinedMetricWarning: Precision and F-score are ill-defined and being set to 0.0 in labels with no predicted samples. Use `zero_division` parameter to control this behavior.\n",
      "  _warn_prf(average, modifier, msg_start, len(result))\n",
      "/Users/sanghoonjeon/miniforge3/envs/federate/lib/python3.9/site-packages/sklearn/metrics/_classification.py:1248: UndefinedMetricWarning: Precision and F-score are ill-defined and being set to 0.0 in labels with no predicted samples. Use `zero_division` parameter to control this behavior.\n",
      "  _warn_prf(average, modifier, msg_start, len(result))\n"
     ]
    },
    {
     "name": "stdout",
     "output_type": "stream",
     "text": [
      "[iter 4/30] main_loss: 2.1953, main_acc: 0.2600\n",
      "[*] Iteration: 5/30\n"
     ]
    },
    {
     "name": "stderr",
     "output_type": "stream",
     "text": [
      "Train local models: 100%|██████████████████████████████████████████████████████████████| 10/10 [03:35<00:00, 21.56s/it]\n",
      "/Users/sanghoonjeon/miniforge3/envs/federate/lib/python3.9/site-packages/sklearn/metrics/_classification.py:1248: UndefinedMetricWarning: Precision and F-score are ill-defined and being set to 0.0 in labels with no predicted samples. Use `zero_division` parameter to control this behavior.\n",
      "  _warn_prf(average, modifier, msg_start, len(result))\n",
      "/Users/sanghoonjeon/miniforge3/envs/federate/lib/python3.9/site-packages/sklearn/metrics/_classification.py:1248: UndefinedMetricWarning: Precision and F-score are ill-defined and being set to 0.0 in labels with no predicted samples. Use `zero_division` parameter to control this behavior.\n",
      "  _warn_prf(average, modifier, msg_start, len(result))\n",
      "/Users/sanghoonjeon/miniforge3/envs/federate/lib/python3.9/site-packages/sklearn/metrics/_classification.py:1248: UndefinedMetricWarning: Precision and F-score are ill-defined and being set to 0.0 in labels with no predicted samples. Use `zero_division` parameter to control this behavior.\n",
      "  _warn_prf(average, modifier, msg_start, len(result))\n"
     ]
    },
    {
     "name": "stdout",
     "output_type": "stream",
     "text": [
      "[iter 5/30] main_loss: 2.1336, main_acc: 0.4335\n",
      "[*] Iteration: 6/30\n"
     ]
    },
    {
     "name": "stderr",
     "output_type": "stream",
     "text": [
      "Train local models: 100%|██████████████████████████████████████████████████████████████| 10/10 [03:43<00:00, 22.33s/it]\n",
      "/Users/sanghoonjeon/miniforge3/envs/federate/lib/python3.9/site-packages/sklearn/metrics/_classification.py:1248: UndefinedMetricWarning: Precision and F-score are ill-defined and being set to 0.0 in labels with no predicted samples. Use `zero_division` parameter to control this behavior.\n",
      "  _warn_prf(average, modifier, msg_start, len(result))\n",
      "/Users/sanghoonjeon/miniforge3/envs/federate/lib/python3.9/site-packages/sklearn/metrics/_classification.py:1248: UndefinedMetricWarning: Precision and F-score are ill-defined and being set to 0.0 in labels with no predicted samples. Use `zero_division` parameter to control this behavior.\n",
      "  _warn_prf(average, modifier, msg_start, len(result))\n",
      "/Users/sanghoonjeon/miniforge3/envs/federate/lib/python3.9/site-packages/sklearn/metrics/_classification.py:1248: UndefinedMetricWarning: Precision and F-score are ill-defined and being set to 0.0 in labels with no predicted samples. Use `zero_division` parameter to control this behavior.\n",
      "  _warn_prf(average, modifier, msg_start, len(result))\n"
     ]
    },
    {
     "name": "stdout",
     "output_type": "stream",
     "text": [
      "[iter 6/30] main_loss: 2.1408, main_acc: 0.2799\n",
      "[*] Iteration: 7/30\n"
     ]
    },
    {
     "name": "stderr",
     "output_type": "stream",
     "text": [
      "Train local models: 100%|██████████████████████████████████████████████████████████████| 10/10 [03:41<00:00, 22.11s/it]\n",
      "/Users/sanghoonjeon/miniforge3/envs/federate/lib/python3.9/site-packages/sklearn/metrics/_classification.py:1248: UndefinedMetricWarning: Precision and F-score are ill-defined and being set to 0.0 in labels with no predicted samples. Use `zero_division` parameter to control this behavior.\n",
      "  _warn_prf(average, modifier, msg_start, len(result))\n",
      "/Users/sanghoonjeon/miniforge3/envs/federate/lib/python3.9/site-packages/sklearn/metrics/_classification.py:1248: UndefinedMetricWarning: Precision and F-score are ill-defined and being set to 0.0 in labels with no predicted samples. Use `zero_division` parameter to control this behavior.\n",
      "  _warn_prf(average, modifier, msg_start, len(result))\n",
      "/Users/sanghoonjeon/miniforge3/envs/federate/lib/python3.9/site-packages/sklearn/metrics/_classification.py:1248: UndefinedMetricWarning: Precision and F-score are ill-defined and being set to 0.0 in labels with no predicted samples. Use `zero_division` parameter to control this behavior.\n",
      "  _warn_prf(average, modifier, msg_start, len(result))\n"
     ]
    },
    {
     "name": "stdout",
     "output_type": "stream",
     "text": [
      "[iter 7/30] main_loss: 1.8900, main_acc: 0.5834\n",
      "[*] Iteration: 8/30\n"
     ]
    },
    {
     "name": "stderr",
     "output_type": "stream",
     "text": [
      "Train local models: 100%|██████████████████████████████████████████████████████████████| 10/10 [03:38<00:00, 21.88s/it]\n"
     ]
    },
    {
     "name": "stdout",
     "output_type": "stream",
     "text": [
      "[iter 8/30] main_loss: 1.5261, main_acc: 0.9412\n",
      "[*] Iteration: 9/30\n"
     ]
    },
    {
     "name": "stderr",
     "output_type": "stream",
     "text": [
      "Train local models: 100%|██████████████████████████████████████████████████████████████| 10/10 [03:37<00:00, 21.73s/it]\n"
     ]
    },
    {
     "name": "stdout",
     "output_type": "stream",
     "text": [
      "[iter 9/30] main_loss: 1.4935, main_acc: 0.9684\n",
      "[*] Iteration: 10/30\n"
     ]
    },
    {
     "name": "stderr",
     "output_type": "stream",
     "text": [
      "Train local models: 100%|██████████████████████████████████████████████████████████████| 10/10 [03:36<00:00, 21.67s/it]\n"
     ]
    },
    {
     "name": "stdout",
     "output_type": "stream",
     "text": [
      "[iter 10/30] main_loss: 1.4873, main_acc: 0.9746\n",
      "[*] Iteration: 11/30\n"
     ]
    },
    {
     "name": "stderr",
     "output_type": "stream",
     "text": [
      "Train local models: 100%|██████████████████████████████████████████████████████████████| 10/10 [03:35<00:00, 21.59s/it]\n"
     ]
    },
    {
     "name": "stdout",
     "output_type": "stream",
     "text": [
      "[iter 11/30] main_loss: 1.4845, main_acc: 0.9770\n",
      "[*] Iteration: 12/30\n"
     ]
    },
    {
     "name": "stderr",
     "output_type": "stream",
     "text": [
      "Train local models: 100%|██████████████████████████████████████████████████████████████| 10/10 [03:36<00:00, 21.67s/it]\n"
     ]
    },
    {
     "name": "stdout",
     "output_type": "stream",
     "text": [
      "[iter 12/30] main_loss: 1.4822, main_acc: 0.9797\n",
      "[*] Iteration: 13/30\n"
     ]
    },
    {
     "name": "stderr",
     "output_type": "stream",
     "text": [
      "Train local models: 100%|██████████████████████████████████████████████████████████████| 10/10 [04:26<00:00, 26.61s/it]\n"
     ]
    },
    {
     "name": "stdout",
     "output_type": "stream",
     "text": [
      "[iter 13/30] main_loss: 1.4808, main_acc: 0.9807\n",
      "[*] Iteration: 14/30\n"
     ]
    },
    {
     "name": "stderr",
     "output_type": "stream",
     "text": [
      "Train local models: 100%|██████████████████████████████████████████████████████████████| 10/10 [03:25<00:00, 20.59s/it]\n"
     ]
    },
    {
     "name": "stdout",
     "output_type": "stream",
     "text": [
      "[iter 14/30] main_loss: 1.4793, main_acc: 0.9828\n",
      "[*] Iteration: 15/30\n"
     ]
    },
    {
     "name": "stderr",
     "output_type": "stream",
     "text": [
      "Train local models: 100%|██████████████████████████████████████████████████████████████| 10/10 [03:38<00:00, 21.89s/it]\n"
     ]
    },
    {
     "name": "stdout",
     "output_type": "stream",
     "text": [
      "[iter 15/30] main_loss: 1.4790, main_acc: 0.9826\n",
      "[*] Iteration: 16/30\n"
     ]
    },
    {
     "name": "stderr",
     "output_type": "stream",
     "text": [
      "Train local models: 100%|██████████████████████████████████████████████████████████████| 10/10 [03:34<00:00, 21.41s/it]\n"
     ]
    },
    {
     "name": "stdout",
     "output_type": "stream",
     "text": [
      "[iter 16/30] main_loss: 1.4780, main_acc: 0.9833\n",
      "[*] Iteration: 17/30\n"
     ]
    },
    {
     "name": "stderr",
     "output_type": "stream",
     "text": [
      "Train local models: 100%|██████████████████████████████████████████████████████████████| 10/10 [03:40<00:00, 22.03s/it]\n"
     ]
    },
    {
     "name": "stdout",
     "output_type": "stream",
     "text": [
      "[iter 17/30] main_loss: 1.4777, main_acc: 0.9836\n",
      "[*] Iteration: 18/30\n"
     ]
    },
    {
     "name": "stderr",
     "output_type": "stream",
     "text": [
      "Train local models: 100%|██████████████████████████████████████████████████████████████| 10/10 [03:28<00:00, 20.86s/it]\n"
     ]
    },
    {
     "name": "stdout",
     "output_type": "stream",
     "text": [
      "[iter 18/30] main_loss: 1.4773, main_acc: 0.9842\n",
      "[*] Iteration: 19/30\n"
     ]
    },
    {
     "name": "stderr",
     "output_type": "stream",
     "text": [
      "Train local models: 100%|██████████████████████████████████████████████████████████████| 10/10 [02:53<00:00, 17.39s/it]\n"
     ]
    },
    {
     "name": "stdout",
     "output_type": "stream",
     "text": [
      "[iter 19/30] main_loss: 1.4769, main_acc: 0.9845\n",
      "[*] Iteration: 20/30\n"
     ]
    },
    {
     "name": "stderr",
     "output_type": "stream",
     "text": [
      "Train local models: 100%|██████████████████████████████████████████████████████████████| 10/10 [02:49<00:00, 16.90s/it]\n"
     ]
    },
    {
     "name": "stdout",
     "output_type": "stream",
     "text": [
      "[iter 20/30] main_loss: 1.4763, main_acc: 0.9850\n",
      "[*] Iteration: 21/30\n"
     ]
    },
    {
     "name": "stderr",
     "output_type": "stream",
     "text": [
      "Train local models: 100%|██████████████████████████████████████████████████████████████| 10/10 [03:07<00:00, 18.70s/it]\n"
     ]
    },
    {
     "name": "stdout",
     "output_type": "stream",
     "text": [
      "[iter 21/30] main_loss: 1.4763, main_acc: 0.9850\n",
      "[*] Iteration: 22/30\n"
     ]
    },
    {
     "name": "stderr",
     "output_type": "stream",
     "text": [
      "Train local models: 100%|██████████████████████████████████████████████████████████████| 10/10 [03:30<00:00, 21.09s/it]\n"
     ]
    },
    {
     "name": "stdout",
     "output_type": "stream",
     "text": [
      "[iter 22/30] main_loss: 1.4758, main_acc: 0.9855\n",
      "[*] Iteration: 23/30\n"
     ]
    },
    {
     "name": "stderr",
     "output_type": "stream",
     "text": [
      "Train local models: 100%|██████████████████████████████████████████████████████████████| 10/10 [03:16<00:00, 19.66s/it]\n"
     ]
    },
    {
     "name": "stdout",
     "output_type": "stream",
     "text": [
      "[iter 23/30] main_loss: 1.4751, main_acc: 0.9864\n",
      "[*] Iteration: 24/30\n"
     ]
    },
    {
     "name": "stderr",
     "output_type": "stream",
     "text": [
      "Train local models: 100%|██████████████████████████████████████████████████████████████| 10/10 [03:22<00:00, 20.24s/it]\n"
     ]
    },
    {
     "name": "stdout",
     "output_type": "stream",
     "text": [
      "[iter 24/30] main_loss: 1.4749, main_acc: 0.9869\n",
      "[*] Iteration: 25/30\n"
     ]
    },
    {
     "name": "stderr",
     "output_type": "stream",
     "text": [
      "Train local models: 100%|██████████████████████████████████████████████████████████████| 10/10 [05:33<00:00, 33.37s/it]\n"
     ]
    },
    {
     "name": "stdout",
     "output_type": "stream",
     "text": [
      "[iter 25/30] main_loss: 1.4748, main_acc: 0.9869\n",
      "[*] Iteration: 26/30\n"
     ]
    },
    {
     "name": "stderr",
     "output_type": "stream",
     "text": [
      "Train local models: 100%|██████████████████████████████████████████████████████████████| 10/10 [03:30<00:00, 21.10s/it]\n"
     ]
    },
    {
     "name": "stdout",
     "output_type": "stream",
     "text": [
      "[iter 26/30] main_loss: 1.4749, main_acc: 0.9865\n",
      "[*] Iteration: 27/30\n"
     ]
    },
    {
     "name": "stderr",
     "output_type": "stream",
     "text": [
      "Train local models:  10%|██████▎                                                        | 1/10 [00:47<07:11, 47.98s/it]"
     ]
    }
   ],
   "source": [
    "main_model, local_models = federated_learning(\n",
    "    tr_X_dict, tr_y_dict, te_X_dict, te_y_dict,\n",
    "    te_X, te_y,\n",
    "    NUM_OF_LOCAL, ITERATION, EPOCHS, BATCH_SIZE, log_name='non_iid')"
   ]
  },
  {
   "cell_type": "code",
   "execution_count": null,
   "id": "2f177b98",
   "metadata": {},
   "outputs": [],
   "source": [
    "report = create_eval_report(main_model, te_X, te_y)"
   ]
  },
  {
   "cell_type": "code",
   "execution_count": null,
   "id": "79b5a09a",
   "metadata": {},
   "outputs": [],
   "source": [
    "compare_local_and_merged_model(main_model, local_models, te_X_dict, te_y_dict)"
   ]
  },
  {
   "cell_type": "code",
   "execution_count": null,
   "id": "a7eb1f05",
   "metadata": {},
   "outputs": [],
   "source": [
    "save_model(main_model, './data/model/main_non_iid_model')"
   ]
  },
  {
   "cell_type": "code",
   "execution_count": null,
   "id": "52257e7f",
   "metadata": {},
   "outputs": [],
   "source": []
  }
 ],
 "metadata": {
  "kernelspec": {
   "display_name": "federate",
   "language": "python",
   "name": "federate"
  },
  "language_info": {
   "codemirror_mode": {
    "name": "ipython",
    "version": 3
   },
   "file_extension": ".py",
   "mimetype": "text/x-python",
   "name": "python",
   "nbconvert_exporter": "python",
   "pygments_lexer": "ipython3",
   "version": "3.9.6"
  }
 },
 "nbformat": 4,
 "nbformat_minor": 5
}
